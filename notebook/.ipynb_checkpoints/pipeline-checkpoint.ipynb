{
 "cells": [
  {
   "cell_type": "markdown",
   "id": "57e37b52-2a0f-440f-a390-5428f843f487",
   "metadata": {},
   "source": [
    "# Testing Pipeline"
   ]
  },
  {
   "cell_type": "markdown",
   "id": "b94a67f3-ed7f-4012-87c2-743fffd51eee",
   "metadata": {},
   "source": [
    "## ExampleGen"
   ]
  },
  {
   "cell_type": "code",
   "execution_count": null,
   "id": "83acac11-89e2-41b9-8205-27ca22ed465a",
   "metadata": {},
   "outputs": [],
   "source": []
  }
 ],
 "metadata": {
  "kernelspec": {
   "display_name": "Python (smartsearch)",
   "language": "python",
   "name": "smartsearch"
  },
  "language_info": {
   "codemirror_mode": {
    "name": "ipython",
    "version": 3
   },
   "file_extension": ".py",
   "mimetype": "text/x-python",
   "name": "python",
   "nbconvert_exporter": "python",
   "pygments_lexer": "ipython3",
   "version": "3.9.21"
  }
 },
 "nbformat": 4,
 "nbformat_minor": 5
}
